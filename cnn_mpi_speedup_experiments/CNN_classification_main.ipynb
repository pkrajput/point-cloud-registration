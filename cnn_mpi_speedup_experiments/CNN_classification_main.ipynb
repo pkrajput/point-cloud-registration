{
  "cells": [
    {
      "cell_type": "code",
      "execution_count": 1,
      "metadata": {
        "colab": {
          "base_uri": "https://localhost:8080/"
        },
        "id": "y7g-MtHoDNGQ",
        "outputId": "985ab9cd-a743-4b26-a3e7-d5d4832585e2"
      },
      "outputs": [
        {
          "output_type": "stream",
          "name": "stdout",
          "text": [
            "Looking in indexes: https://pypi.org/simple, https://us-python.pkg.dev/colab-wheels/public/simple/\n",
            "Requirement already satisfied: mpi4py in /usr/local/lib/python3.8/dist-packages (3.1.4)\n"
          ]
        }
      ],
      "source": [
        "!pip install mpi4py"
      ]
    },
    {
      "cell_type": "code",
      "execution_count": 2,
      "metadata": {
        "id": "i1drHRaTT74A"
      },
      "outputs": [],
      "source": [
        "import torch\n",
        "import torch.nn as nn\n",
        "import torch.utils.data as data\n",
        "import torch.distributed as dist\n",
        "from torch.multiprocessing import Process\n",
        "import torchvision"
      ]
    },
    {
      "cell_type": "code",
      "execution_count": 3,
      "metadata": {
        "id": "ejuPvv2oT8oR"
      },
      "outputs": [],
      "source": [
        "from mpi4py import MPI"
      ]
    },
    {
      "cell_type": "code",
      "execution_count": 4,
      "metadata": {
        "id": "Ie6UojykT76g"
      },
      "outputs": [],
      "source": [
        "from model import MNISTNetwork"
      ]
    },
    {
      "cell_type": "code",
      "execution_count": 5,
      "metadata": {
        "id": "bKIm8BzjT79g"
      },
      "outputs": [],
      "source": [
        "import numpy as np\n",
        "import os\n",
        "import argparse\n",
        "from collections import OrderedDict"
      ]
    },
    {
      "cell_type": "code",
      "execution_count": 6,
      "metadata": {
        "id": "8VyTlKR8UpL1"
      },
      "outputs": [],
      "source": [
        "batch_size = 16\n",
        "lr = 0.001\n",
        "momentum = 0.9"
      ]
    },
    {
      "cell_type": "code",
      "execution_count": 7,
      "metadata": {
        "id": "E9gGhkvpT8Ak"
      },
      "outputs": [],
      "source": [
        "def build_mnist_dataloader(train=True, bsz=16):\n",
        "    \"\"\"Return a dataloader that lets us iterate through the MNIST dataset.\"\"\"\n",
        "    return data.DataLoader(\n",
        "        torchvision.datasets.MNIST(\"./\", train=train, download=True, transform=torchvision.transforms.ToTensor()),\n",
        "        shuffle=True,\n",
        "        num_workers=1,\n",
        "        batch_size=bsz\n",
        "    )"
      ]
    },
    {
      "cell_type": "code",
      "execution_count": 8,
      "metadata": {
        "id": "fb9J-1DZT8Dg"
      },
      "outputs": [],
      "source": [
        "def train(model):\n",
        "    \"\"\"Define the training process for a single epoch.\"\"\"\n",
        "    loader = build_mnist_dataloader(train=True, bsz=batch_size)\n",
        "    loss_fn = nn.CrossEntropyLoss()\n",
        "    opt = torch.optim.SGD(model.parameters(), lr=lr, momentum=momentum)\n",
        "    for k, (xs, ys) in enumerate(loader):\n",
        "        opt.zero_grad()\n",
        "        loss_fn(model(xs), ys).backward()\n",
        "        opt.step()"
      ]
    },
    {
      "cell_type": "code",
      "execution_count": 9,
      "metadata": {
        "id": "K5E8-_KST8F3"
      },
      "outputs": [],
      "source": [
        "def eval(model):\n",
        "    \"\"\"Define eval function\"\"\"\n",
        "    state_dict = model.state_dict()\n",
        "    model.load_state_dict(state_dict)\n",
        "    # --- run validation loop:\n",
        "    model.eval()\n",
        "    with torch.no_grad():\n",
        "        val_losses = []\n",
        "        val_loader = build_mnist_dataloader(train=False, bsz=batch_size)\n",
        "        loss_fn = nn.CrossEntropyLoss()\n",
        "        for xs, ys in val_loader:\n",
        "            val_losses.append(loss_fn(model(xs), ys).item())\n",
        "        print(\"* Mean validation loss of averaged model: {}\".format(np.mean(val_losses)))\n"
      ]
    },
    {
      "cell_type": "code",
      "execution_count": 10,
      "metadata": {
        "colab": {
          "base_uri": "https://localhost:8080/"
        },
        "id": "e_MivzaNcDj6",
        "outputId": "b72ecc2d-b636-4f33-e13e-1116c212f246"
      },
      "outputs": [
        {
          "output_type": "execute_result",
          "data": {
            "text/plain": [
              "<bound method Module.parameters of MNISTNetwork(\n",
              "  (convnet): Sequential(\n",
              "    (0): Conv2d(1, 10, kernel_size=(5, 5), stride=(1, 1))\n",
              "    (1): MaxPool2d(kernel_size=2, stride=2, padding=0, dilation=1, ceil_mode=False)\n",
              "    (2): ReLU()\n",
              "    (3): Conv2d(10, 20, kernel_size=(5, 5), stride=(1, 1))\n",
              "    (4): MaxPool2d(kernel_size=2, stride=2, padding=0, dilation=1, ceil_mode=False)\n",
              "    (5): ReLU()\n",
              "  )\n",
              "  (feedforward): Sequential(\n",
              "    (0): Linear(in_features=320, out_features=50, bias=True)\n",
              "    (1): ReLU()\n",
              "    (2): Dropout(p=0.5, inplace=False)\n",
              "    (3): Linear(in_features=50, out_features=10, bias=True)\n",
              "  )\n",
              ")>"
            ]
          },
          "metadata": {},
          "execution_count": 10
        }
      ],
      "source": [
        "MNISTNetwork().parameters"
      ]
    },
    {
      "cell_type": "code",
      "execution_count": 11,
      "metadata": {
        "colab": {
          "base_uri": "https://localhost:8080/"
        },
        "id": "rr4I50NQT8Kf",
        "outputId": "48f5d42c-d1be-4452-b969-59a282b22e60"
      },
      "outputs": [
        {
          "output_type": "stream",
          "name": "stdout",
          "text": [
            "* Mean validation loss of averaged model: 0.13383432199433445\n",
            "time taken to train and eval for 1 epochs: 147.30128860473633 secs\n"
          ]
        }
      ],
      "source": [
        "import time\n",
        "start_time = time.time()\n",
        "nepochs = 1\n",
        "for t in range(nepochs):\n",
        "    model = MNISTNetwork()\n",
        "    train(model)\n",
        "for t in range(nepochs):\n",
        "    eval(model)\n",
        "cpu_time = time.time() - start_time\n",
        "print(f\"time taken to train and eval for {nepochs} epochs: {time.time() - start_time} secs\")"
      ]
    },
    {
      "cell_type": "code",
      "source": [
        "iterations = list(np.logspace(1, 5, base=2, num=5).astype(np.int))"
      ],
      "metadata": {
        "colab": {
          "base_uri": "https://localhost:8080/"
        },
        "id": "88U1LZaBAHnN",
        "outputId": "e9328abc-9ae7-4dcc-9649-34c23dd2db1b"
      },
      "execution_count": 12,
      "outputs": [
        {
          "output_type": "stream",
          "name": "stderr",
          "text": [
            "<ipython-input-12-36a55e249440>:1: DeprecationWarning: `np.int` is a deprecated alias for the builtin `int`. To silence this warning, use `int` by itself. Doing this will not modify any behavior and is safe. When replacing `np.int`, you may wish to use e.g. `np.int64` or `np.int32` to specify the precision. If you wish to review your current use, check the release note link for additional information.\n",
            "Deprecated in NumPy 1.20; for more details and guidance: https://numpy.org/devdocs/release/1.20.0-notes.html#deprecations\n",
            "  iterations = list(np.logspace(1, 5, base=2, num=5).astype(np.int))\n"
          ]
        }
      ]
    },
    {
      "cell_type": "code",
      "source": [
        "iterations"
      ],
      "metadata": {
        "colab": {
          "base_uri": "https://localhost:8080/"
        },
        "id": "-oT7HQzLBUE9",
        "outputId": "3585a2ec-b6f8-4931-b400-48d281339fa1"
      },
      "execution_count": 13,
      "outputs": [
        {
          "output_type": "execute_result",
          "data": {
            "text/plain": [
              "[2, 4, 8, 16, 32]"
            ]
          },
          "metadata": {},
          "execution_count": 13
        }
      ]
    },
    {
      "cell_type": "code",
      "execution_count": 14,
      "metadata": {
        "colab": {
          "base_uri": "https://localhost:8080/"
        },
        "id": "gj9uYJJ_Q-uB",
        "outputId": "9644b63f-d347-4c86-9b73-f41db8c69a7a"
      },
      "outputs": [
        {
          "output_type": "stream",
          "name": "stdout",
          "text": [
            "[ = = = = = Epoch 0 = = = = = ]\n",
            "* Waiting for 1 training processes to finish...\n",
            "(Received a trained model from process 1 of 1 workers...)\n",
            "* Averaging models...\n",
            "mpi time with 2 workers: 81.30980448150012\n",
            "* Mean validation loss of averaged model: 0.1680120046533644\n",
            "mpi time with 2 workers: 86.41533424350018\n",
            "[ = = = = = Epoch 0 = = = = = ]\n",
            "* Waiting for 3 training processes to finish...\n",
            "mpi time with 4 workers: 69.66058855874985\n",
            "(Received a trained model from process 1 of 3 workers...)\n",
            "mpi time with 4 workers: 72.76060627949983\n",
            "(Received a trained model from process 2 of 3 workers...)\n",
            "(Received a trained model from process 3 of 3 workers...)\n",
            "* Averaging models...\n",
            "mpi time with 4 workers: 73.77871088699999\n",
            "* Mean validation loss of averaged model: 0.14815446297600865\n",
            "mpi time with 4 workers: 76.65671905725003\n",
            "[ = = = = = Epoch 0 = = = = = ]\n",
            "* Waiting for 7 training processes to finish...\n",
            "mpi time with 8 workers: 72.93654012774994\n",
            "(Received a trained model from process 1 of 7 workers...)\n",
            "mpi time with 8 workers: 73.2646014123751\n",
            "(Received a trained model from process 2 of 7 workers...)\n",
            "(Received a trained model from process 3 of 7 workers...)\n",
            "mpi time with 8 workers: 73.51436341949989\n",
            "mpi time with 8 workers: 73.712653815875\n",
            "(Received a trained model from process 4 of 7 workers...)\n",
            "mpi time with 8 workers: 74.10379767299992\n",
            "(Received a trained model from process 5 of 7 workers...)\n",
            "mpi time with 8 workers: 74.30276978000006\n",
            "(Received a trained model from process 6 of 7 workers...)\n",
            "(Received a trained model from process 7 of 7 workers...)\n",
            "* Averaging models...\n",
            "mpi time with 8 workers: 74.6759762874999\n",
            "* Mean validation loss of averaged model: 0.1438462564729154\n",
            "mpi time with 8 workers: 76.16806188087492\n",
            "[ = = = = = Epoch 0 = = = = = ]\n",
            "* Waiting for 15 training processes to finish...\n",
            "(Received a trained model from process 1 of 15 workers...)\n",
            "mpi time with 16 workers: 69.37545377612503\n",
            "(Received a trained model from process 2 of 15 workers...)\n",
            "mpi time with 16 workers: 69.43978236318753\n",
            "(Received a trained model from process 3 of 15 workers...)\n",
            "mpi time with 16 workers: 69.45506193074993\n",
            "(Received a trained model from process 4 of 15 workers...)\n",
            "mpi time with 16 workers: 69.50693293743745\n",
            "(Received a trained model from process 5 of 15 workers...)\n",
            "mpi time with 16 workers: 69.72824055881256\n",
            "(Received a trained model from process 6 of 15 workers...)\n",
            "mpi time with 16 workers: 69.74228828468756\n",
            "(Received a trained model from process 7 of 15 workers...)\n",
            "mpi time with 16 workers: 69.79240830524998\n",
            "(Received a trained model from process 8 of 15 workers...)\n",
            "mpi time with 16 workers: 69.81497596131248\n",
            "(Received a trained model from process 9 of 15 workers...)\n",
            "mpi time with 16 workers: 69.86190159849991\n",
            "(Received a trained model from process 10 of 15 workers...)\n",
            "mpi time with 16 workers: 70.08512893199998\n",
            "(Received a trained model from process 11 of 15 workers...)\n",
            "mpi time with 16 workers: 70.09333179887494\n",
            "(Received a trained model from process 12 of 15 workers...)\n",
            "mpi time with 16 workers: 70.10894052900005\n",
            "mpi time with 16 workers: 70.2409836991875\n",
            "(Received a trained model from process 13 of 15 workers...)\n",
            "(Received a trained model from process 14 of 15 workers...)\n",
            "mpi time with 16 workers: 70.39992970843753\n",
            "mpi time with 16 workers: 70.41051895281248\n",
            "(Received a trained model from process 15 of 15 workers...)\n",
            "* Averaging models...\n",
            "* Mean validation loss of averaged model: 0.1448292408451438\n",
            "mpi time with 16 workers: 72.2894371826876\n",
            "[ = = = = = Epoch 0 = = = = = ]\n",
            "* Waiting for 31 training processes to finish...\n",
            "mpi time with 32 workers: 53.93618189678125\n",
            "(Received a trained model from process 1 of 31 workers...)\n",
            "(Received a trained model from process 2 of 31 workers...)\n",
            "mpi time with 32 workers: 54.342801432124986\n",
            "(Received a trained model from process 3 of 31 workers...)\n",
            "mpi time with 32 workers: 54.47001825228125\n",
            "mpi time with 32 workers: 54.60519244940622\n",
            "(Received a trained model from process 4 of 31 workers...)\n",
            "mpi time with 32 workers: 54.60761746893746\n",
            "(Received a trained model from process 5 of 31 workers...)\n",
            "(Received a trained model from process 6 of 31 workers...)\n",
            "mpi time with 32 workers: 54.64321605984372\n",
            "(Received a trained model from process 7 of 31 workers...)\n",
            "mpi time with 32 workers: 54.64517701950001\n",
            "(Received a trained model from process 8 of 31 workers...)\n",
            "mpi time with 32 workers: 54.64536740912496\n",
            "(Received a trained model from process 9 of 31 workers...)\n",
            "mpi time with 32 workers: 54.676015430625\n",
            "(Received a trained model from process 10 of 31 workers...)\n",
            "mpi time with 32 workers: 54.68655745853124\n",
            "(Received a trained model from process 11 of 31 workers...)\n",
            "mpi time with 32 workers: 54.71423191009376\n",
            "(Received a trained model from process 12 of 31 workers...)\n",
            "mpi time with 32 workers: 54.72570135234372\n",
            "(Received a trained model from process 13 of 31 workers...)\n",
            "(Received a trained model from process 14 of 31 workers...)\n",
            "mpi time with 32 workers: 54.80124620640629\n",
            "mpi time with 32 workers: 54.800727088874964\n",
            "(Received a trained model from process 15 of 31 workers...)\n",
            "mpi time with 32 workers: 54.81972714412501\n",
            "(Received a trained model from process 16 of 31 workers...)\n",
            "mpi time with 32 workers: 54.82383935690626\n",
            "(Received a trained model from process 17 of 31 workers...)\n",
            "mpi time with 32 workers: 54.85393691903124\n",
            "(Received a trained model from process 18 of 31 workers...)\n",
            "mpi time with 32 workers: 54.911675832937476\n",
            "(Received a trained model from process 19 of 31 workers...)\n",
            "mpi time with 32 workers: 55.01518004078122\n",
            "(Received a trained model from process 20 of 31 workers...)\n",
            "mpi time with 32 workers: 55.031492980937514\n",
            "(Received a trained model from process 21 of 31 workers...)\n",
            "mpi time with 32 workers: 55.10657736140621\n",
            "(Received a trained model from process 22 of 31 workers...)\n",
            "mpi time with 32 workers: 55.19273352806249\n",
            "mpi time with 32 workers: 55.24047018425\n",
            "(Received a trained model from process 23 of 31 workers...)\n",
            "(Received a trained model from process 24 of 31 workers...)\n",
            "mpi time with 32 workers: 55.27822558974998\n",
            "(Received a trained model from process 25 of 31 workers...)\n",
            "mpi time with 32 workers: 55.28764003856253\n",
            "(Received a trained model from process 26 of 31 workers...)\n",
            "mpi time with 32 workers: 55.290962623406244\n",
            "(Received a trained model from process 27 of 31 workers...)\n",
            "mpi time with 32 workers: 55.31861936678126\n",
            "mpi time with 32 workers: 55.336411756968744\n",
            "(Received a trained model from process 28 of 31 workers...)\n",
            "mpi time with 32 workers: 55.468978001437506\n",
            "(Received a trained model from process 29 of 31 workers...)\n",
            "(Received a trained model from process 30 of 31 workers...)\n",
            "mpi time with 32 workers: 55.50918291925001\n",
            "(Received a trained model from process 31 of 31 workers...)\n",
            "* Averaging models...\n",
            "mpi time with 32 workers: 55.852517399749956\n",
            "* Mean validation loss of averaged model: 0.14320078312531115\n",
            "mpi time with 32 workers: 61.201505186093755\n"
          ]
        }
      ],
      "source": [
        "for i in iterations:\n",
        "  !mpirun --allow-run-as-root -n  {i} python3 dist_train.py --nepochs 1"
      ]
    },
    {
      "cell_type": "code",
      "source": [
        "mpi_times = [81.30, 69.66, 72.93, 69.37, 53.9]"
      ],
      "metadata": {
        "id": "tPqZoqedCc0P"
      },
      "execution_count": 15,
      "outputs": []
    },
    {
      "cell_type": "code",
      "source": [
        "speed_up = [cpu_time/mpi_time for mpi_time in mpi_times]"
      ],
      "metadata": {
        "id": "0lIrVtDDbkAo"
      },
      "execution_count": 17,
      "outputs": []
    },
    {
      "cell_type": "code",
      "source": [
        "import matplotlib.pyplot as plt\n",
        "\n",
        "plt.rcParams[\"figure.figsize\"] = (20,10)\n",
        "\n",
        "plt.plot(iterations, speed_up, color='r', label='sin')\n",
        "\n",
        "plt.xlabel(\"Number of workers\")\n",
        "plt.ylabel(\"Cpu speedup or time for 1 epoch with mpi\")\n",
        "plt.title(\"simple nn speedup by mpi\")\n",
        "\n",
        "plt.legend()\n",
        "plt.grid()\n",
        "\n",
        "plt.show()"
      ],
      "metadata": {
        "colab": {
          "base_uri": "https://localhost:8080/",
          "height": 440
        },
        "id": "YT3NJIQrbCaa",
        "outputId": "b90563ce-44cf-421e-d3d1-0f45eaffcb6b"
      },
      "execution_count": 21,
      "outputs": [
        {
          "output_type": "display_data",
          "data": {
            "text/plain": [
              "<Figure size 1440x720 with 1 Axes>"
            ],
            "image/png": "[encoded data removed]"
          },
          "metadata": {
            "needs_background": "light"
          }
        }
      ]
    },
    {
      "cell_type": "code",
      "source": [],
      "metadata": {
        "id": "l2lmM1bPcDGa"
      },
      "execution_count": null,
      "outputs": []
    }
  ],
  "metadata": {
    "colab": {
      "provenance": []
    },
    "kernelspec": {
      "display_name": "Python 3",
      "name": "python3"
    },
    "language_info": {
      "name": "python"
    }
  },
  "nbformat": 4,
  "nbformat_minor": 0
}